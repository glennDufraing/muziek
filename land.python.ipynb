{
 "cells": [
  {
   "cell_type": "markdown",
   "metadata": {},
   "source": [
    "# muziek angular\n",
    "## imports"
   ]
  },
  {
   "cell_type": "code",
   "execution_count": 1,
   "metadata": {
    "collapsed": true
   },
   "outputs": [],
   "source": [
    "from IPython.display import display\n",
    "from ipywidgets import widgets\n",
    "import requests\n",
    "from pymongo import MongoClient"
   ]
  },
  {
   "cell_type": "code",
   "execution_count": 7,
   "metadata": {},
   "outputs": [
    {
     "data": {
      "application/vnd.jupyter.widget-view+json": {
       "model_id": "c49ccff5854f4295844fb15da59b0c2e",
       "version_major": 2,
       "version_minor": 0
      },
      "text/plain": [
       "A Jupyter Widget"
      ]
     },
     "metadata": {},
     "output_type": "display_data"
    },
    {
     "data": {
      "application/vnd.jupyter.widget-view+json": {
       "model_id": "00bccf473b0848c4ab0f010f5154c761",
       "version_major": 2,
       "version_minor": 0
      },
      "text/plain": [
       "A Jupyter Widget"
      ]
     },
     "metadata": {},
     "output_type": "display_data"
    },
    {
     "name": "stdout",
     "output_type": "stream",
     "text": [
      "Frankrijk\n",
      "AND\n",
      "BEL\n",
      "DEU\n",
      "ITA\n",
      "LUX\n",
      "MCO\n",
      "ESP\n",
      "CHE\n"
     ]
    }
   ],
   "source": [
    "nameInput = widgets.Text(\n",
    "    \n",
    "    placeholder='Geef naam in',\n",
    "    description='naam:'\n",
    ")\n",
    "nameBtn=widgets.Button(\n",
    "    description='zoek',\n",
    "    button_style='warning', # 'success', 'info', 'warning', 'danger' or ''\n",
    "    tooltip='get country',\n",
    "    icon='check'\n",
    ")\n",
    "countries=[]\n",
    "response=[]\n",
    "borders=[]\n",
    "def search_country(sender):\n",
    "    response=requests.get('https://restcountries.eu/rest/v2/')\n",
    "    for land in response.json():\n",
    "        if land['translations']['nl']==nameInput.value:\n",
    "            print(land['translations']['nl'])\n",
    "            if len(countries)>0:\n",
    "                countries.pop()\n",
    "            countries.append(land)\n",
    "            for border in land['borders']:\n",
    "                borders.append(border)\n",
    "                print border\n",
    "            \n",
    "\n",
    "nameBtn.on_click(search_country)\n",
    "display(nameInput)\n",
    "display(nameBtn)"
   ]
  },
  {
   "cell_type": "code",
   "execution_count": 6,
   "metadata": {},
   "outputs": [
    {
     "data": {
      "application/vnd.jupyter.widget-view+json": {
       "model_id": "6753a01a4c56466bb3d33bf5bd1ecb89",
       "version_major": 2,
       "version_minor": 0
      },
      "text/plain": [
       "A Jupyter Widget"
      ]
     },
     "metadata": {},
     "output_type": "display_data"
    },
    {
     "name": "stdout",
     "output_type": "stream",
     "text": [
      "{'name': u'Netherlands', 'demonym': u'Dutch', 'currency': u'EUR', 'talen': 1, 'borders': [u'BEL', u'DEU'], '_id': ObjectId('5a7004eab270d53de00102d2')}\n",
      "{'name': u'France', 'demonym': u'French', 'currency': u'EUR', 'talen': 1, 'borders': [u'AND', u'BEL', u'DEU', u'ITA', u'LUX', u'MCO', u'ESP', u'CHE'], '_id': ObjectId('5a700519b270d53de00102d3')}\n"
     ]
    }
   ],
   "source": [
    "mongo_client = MongoClient('mongodb://127.0.0.1:27017')\n",
    "db = mongo_client.person\n",
    "\n",
    "btnInsert=widgets.Button(\n",
    "    description='plaats in mongo',\n",
    "    button_style='info', # 'success', 'info', 'warning', 'danger' or ''\n",
    "    tooltip='Click me',\n",
    "    icon='check'\n",
    ")\n",
    "def opslaan_land(sender):      \n",
    "    json ={'name':countries[0]['name'],\n",
    "           'demonym':countries[0]['demonym'],\n",
    "           'currency':countries[0]['currencies'][0]['code'],\n",
    "           'talen':len(countries[0]['languages']),'borders':borders}\n",
    "    response = db.landen.find()\n",
    "    gevonden =0\n",
    "    for item in response:\n",
    "        print(item['name'])\n",
    "        if item['name']==json['name']:\n",
    "            print('persoon al aanwezig')\n",
    "            gevonden = 1\n",
    "    if gevonden ==0:\n",
    "            db.person.insert_one(json)\n",
    "            print(json)\n",
    "            \n",
    "    \n",
    "    \n",
    "btnInsert.on_click(opslaan_land)\n",
    "btnInsert"
   ]
  },
  {
   "cell_type": "code",
   "execution_count": null,
   "metadata": {
    "collapsed": true
   },
   "outputs": [],
   "source": []
  }
 ],
 "metadata": {
  "kernelspec": {
   "display_name": "Python 2",
   "language": "python",
   "name": "python2"
  },
  "language_info": {
   "codemirror_mode": {
    "name": "ipython",
    "version": 2
   },
   "file_extension": ".py",
   "mimetype": "text/x-python",
   "name": "python",
   "nbconvert_exporter": "python",
   "pygments_lexer": "ipython2",
   "version": "2.7.14"
  }
 },
 "nbformat": 4,
 "nbformat_minor": 2
}
