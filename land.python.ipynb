{
 "cells": [
  {
   "cell_type": "markdown",
   "metadata": {},
   "source": [
    "# muziek angular\n",
    "## imports"
   ]
  },
  {
   "cell_type": "code",
   "execution_count": 3,
   "metadata": {
    "collapsed": true
   },
   "outputs": [],
   "source": [
    "from IPython.display import display\n",
    "from ipywidgets import widgets\n",
    "import requests\n",
    "from pymongo import MongoClient"
   ]
  },
  {
   "cell_type": "code",
   "execution_count": 4,
   "metadata": {},
   "outputs": [
    {
     "data": {
      "application/vnd.jupyter.widget-view+json": {
       "model_id": "d7c65119dd2649aa9aeccf69464594e7",
       "version_major": 2,
       "version_minor": 0
      },
      "text/plain": [
       "A Jupyter Widget"
      ]
     },
     "metadata": {},
     "output_type": "display_data"
    },
    {
     "data": {
      "application/vnd.jupyter.widget-view+json": {
       "model_id": "8943d1f8bbe541d285ffae15ed483624",
       "version_major": 2,
       "version_minor": 0
      },
      "text/plain": [
       "A Jupyter Widget"
      ]
     },
     "metadata": {},
     "output_type": "display_data"
    },
    {
     "name": "stdout",
     "output_type": "stream",
     "text": [
      "Ecuador\n",
      "COL\n",
      "PER\n"
     ]
    }
   ],
   "source": [
    "nameInput = widgets.Text(\n",
    "    \n",
    "    placeholder='Geef naam in',\n",
    "    description='naam:'\n",
    ")\n",
    "nameBtn=widgets.Button(\n",
    "    description='zoek',\n",
    "    button_style='warning', # 'success', 'info', 'warning', 'danger' or ''\n",
    "    tooltip='get country',\n",
    "    icon='check'\n",
    ")\n",
    "countries=[]\n",
    "response=[]\n",
    "borders=[]\n",
    "def search_country(sender):\n",
    "    response=requests.get('https://restcountries.eu/rest/v2/')\n",
    "    for land in response.json():\n",
    "        if land['translations']['nl']==nameInput.value:\n",
    "            print(land['translations']['nl'])\n",
    "            if len(countries)>0:\n",
    "                countries.pop()\n",
    "            countries.append(land)\n",
    "            for border in land['borders']:\n",
    "                borders.append(border)\n",
    "                print border\n",
    "            \n",
    "\n",
    "nameBtn.on_click(search_country)\n",
    "display(nameInput)\n",
    "display(nameBtn)"
   ]
  },
  {
   "cell_type": "code",
   "execution_count": 6,
   "metadata": {},
   "outputs": [
    {
     "data": {
      "application/vnd.jupyter.widget-view+json": {
       "model_id": "d9e217bbc6c143e19191f879fa622eb3",
       "version_major": 2,
       "version_minor": 0
      },
      "text/plain": [
       "A Jupyter Widget"
      ]
     },
     "metadata": {},
     "output_type": "display_data"
    },
    {
     "name": "stdout",
     "output_type": "stream",
     "text": [
      "Netherlands\n",
      "France\n",
      "qdfs\n",
      "Ecuador\n",
      "persoon al aanwezig\n"
     ]
    }
   ],
   "source": [
    "mongo_client = MongoClient('mongodb://127.0.0.1:27017')\n",
    "db = mongo_client.person\n",
    "\n",
    "btnInsert=widgets.Button(\n",
    "    description='plaats in mongo',\n",
    "    button_style='info', # 'success', 'info', 'warning', 'danger' or ''\n",
    "    tooltip='Click me',\n",
    "    icon='check'\n",
    ")\n",
    "def opslaan_land(sender):      \n",
    "    json ={'name':countries[0]['name'],\n",
    "           'demonym':countries[0]['demonym'],\n",
    "           'currency':countries[0]['currencies'][0]['code'],\n",
    "           'talen':len(countries[0]['languages']),'borders':borders}\n",
    "    response = db.person.find()\n",
    "    gevonden =0\n",
    "    for item in response:\n",
    "        print(item['name'])\n",
    "        if item['name']==json['name']:\n",
    "            print('persoon al aanwezig')\n",
    "            gevonden = 1\n",
    "    if gevonden ==0:\n",
    "            db.person.insert_one(json)\n",
    "            print(json)\n",
    "            \n",
    "    \n",
    "    \n",
    "btnInsert.on_click(opslaan_land)\n",
    "btnInsert"
   ]
  },
  {
   "cell_type": "code",
   "execution_count": 7,
   "metadata": {},
   "outputs": [
    {
     "data": {
      "application/vnd.jupyter.widget-view+json": {
       "model_id": "8477a0b1da464960b0290f53260a8058",
       "version_major": 2,
       "version_minor": 0
      },
      "text/plain": [
       "A Jupyter Widget"
      ]
     },
     "metadata": {},
     "output_type": "display_data"
    },
    {
     "data": {
      "application/vnd.jupyter.widget-view+json": {
       "model_id": "e583649281604bb1b1e77568208f150a",
       "version_major": 2,
       "version_minor": 0
      },
      "text/plain": [
       "A Jupyter Widget"
      ]
     },
     "metadata": {},
     "output_type": "display_data"
    },
    {
     "name": "stdout",
     "output_type": "stream",
     "text": [
      "{u'name': u'France', u'demonym': u'French', u'currency': u'EUR', u'talen': 1, u'borders': [u'AND', u'BEL', u'DEU', u'ITA', u'LUX', u'MCO', u'ESP', u'CHE'], u'_id': ObjectId('5a700519b270d53de00102d3')}\n"
     ]
    }
   ],
   "source": [
    "nameSearch = widgets.Text(\n",
    "    \n",
    "    placeholder='Geef naam in',\n",
    "    description='naam:'\n",
    ")\n",
    "searchBtn=widgets.Button(\n",
    "    description='zoek',\n",
    "    button_style='warning', # 'success', 'info', 'warning', 'danger' or ''\n",
    "    tooltip='get country',\n",
    "    icon='check'\n",
    ")\n",
    "def zoek_land(sender):\n",
    "    print(db.person.find_one({'name':nameSearch.value}))\n",
    "    \n",
    "searchBtn.on_click(zoek_land)\n",
    "display(nameSearch)\n",
    "display(searchBtn)"
   ]
  },
  {
   "cell_type": "code",
   "execution_count": null,
   "metadata": {
    "collapsed": true
   },
   "outputs": [],
   "source": []
  }
 ],
 "metadata": {
  "kernelspec": {
   "display_name": "Python 2",
   "language": "python",
   "name": "python2"
  },
  "language_info": {
   "codemirror_mode": {
    "name": "ipython",
    "version": 2
   },
   "file_extension": ".py",
   "mimetype": "text/x-python",
   "name": "python",
   "nbconvert_exporter": "python",
   "pygments_lexer": "ipython2",
   "version": "2.7.14"
  }
 },
 "nbformat": 4,
 "nbformat_minor": 2
}
